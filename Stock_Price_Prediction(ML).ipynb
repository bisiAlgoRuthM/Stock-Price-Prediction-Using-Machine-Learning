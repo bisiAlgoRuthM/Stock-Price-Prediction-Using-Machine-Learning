{
 "cells": [
  {
   "cell_type": "markdown",
   "metadata": {},
   "source": [
    "**Importing required libraries**"
   ]
  },
  {
   "cell_type": "code",
   "execution_count": 26,
   "metadata": {},
   "outputs": [],
   "source": [
    "import numpy as np\n",
    "import matplotlib.pyplot as plt\n",
    "import pandas as pd\n",
    "from sklearn import preprocessing\n",
    "from sklearn import metrics\n",
    "from sklearn.model_selection import train_test_split\n",
    "from sklearn.linear_model import LinearRegression"
   ]
  },
  {
   "cell_type": "markdown",
   "metadata": {},
   "source": [
    "**Data Preparation And Visualization**"
   ]
  },
  {
   "cell_type": "code",
   "execution_count": 27,
   "metadata": {},
   "outputs": [
    {
     "data": {
      "text/html": [
       "<div>\n",
       "<style scoped>\n",
       "    .dataframe tbody tr th:only-of-type {\n",
       "        vertical-align: middle;\n",
       "    }\n",
       "\n",
       "    .dataframe tbody tr th {\n",
       "        vertical-align: top;\n",
       "    }\n",
       "\n",
       "    .dataframe thead th {\n",
       "        text-align: right;\n",
       "    }\n",
       "</style>\n",
       "<table border=\"1\" class=\"dataframe\">\n",
       "  <thead>\n",
       "    <tr style=\"text-align: right;\">\n",
       "      <th></th>\n",
       "      <th>Date</th>\n",
       "      <th>Open</th>\n",
       "      <th>High</th>\n",
       "      <th>Low</th>\n",
       "      <th>Close</th>\n",
       "      <th>Adj Close</th>\n",
       "      <th>Volume</th>\n",
       "    </tr>\n",
       "  </thead>\n",
       "  <tbody>\n",
       "    <tr>\n",
       "      <th>0</th>\n",
       "      <td>2010-06-30</td>\n",
       "      <td>5.158</td>\n",
       "      <td>6.084</td>\n",
       "      <td>4.660</td>\n",
       "      <td>4.766</td>\n",
       "      <td>4.766</td>\n",
       "      <td>85935500</td>\n",
       "    </tr>\n",
       "    <tr>\n",
       "      <th>1</th>\n",
       "      <td>2010-07-01</td>\n",
       "      <td>5.000</td>\n",
       "      <td>5.184</td>\n",
       "      <td>4.054</td>\n",
       "      <td>4.392</td>\n",
       "      <td>4.392</td>\n",
       "      <td>41094000</td>\n",
       "    </tr>\n",
       "    <tr>\n",
       "      <th>2</th>\n",
       "      <td>2010-07-02</td>\n",
       "      <td>4.600</td>\n",
       "      <td>4.620</td>\n",
       "      <td>3.742</td>\n",
       "      <td>3.840</td>\n",
       "      <td>3.840</td>\n",
       "      <td>25699000</td>\n",
       "    </tr>\n",
       "    <tr>\n",
       "      <th>3</th>\n",
       "      <td>2010-07-06</td>\n",
       "      <td>4.000</td>\n",
       "      <td>4.000</td>\n",
       "      <td>3.166</td>\n",
       "      <td>3.222</td>\n",
       "      <td>3.222</td>\n",
       "      <td>34334500</td>\n",
       "    </tr>\n",
       "    <tr>\n",
       "      <th>4</th>\n",
       "      <td>2010-07-07</td>\n",
       "      <td>3.280</td>\n",
       "      <td>3.326</td>\n",
       "      <td>2.996</td>\n",
       "      <td>3.160</td>\n",
       "      <td>3.160</td>\n",
       "      <td>34608500</td>\n",
       "    </tr>\n",
       "  </tbody>\n",
       "</table>\n",
       "</div>"
      ],
      "text/plain": [
       "         Date   Open   High    Low  Close  Adj Close    Volume\n",
       "0  2010-06-30  5.158  6.084  4.660  4.766      4.766  85935500\n",
       "1  2010-07-01  5.000  5.184  4.054  4.392      4.392  41094000\n",
       "2  2010-07-02  4.600  4.620  3.742  3.840      3.840  25699000\n",
       "3  2010-07-06  4.000  4.000  3.166  3.222      3.222  34334500\n",
       "4  2010-07-07  3.280  3.326  2.996  3.160      3.160  34608500"
      ]
     },
     "execution_count": 27,
     "metadata": {},
     "output_type": "execute_result"
    }
   ],
   "source": [
    "df = pd.read_csv('TSLA.csv')\n",
    "df.head()"
   ]
  },
  {
   "cell_type": "code",
   "execution_count": 28,
   "metadata": {},
   "outputs": [
    {
     "name": "stdout",
     "output_type": "stream",
     "text": [
      "<class 'pandas.core.frame.DataFrame'>\n",
      "RangeIndex: 2579 entries, 0 to 2578\n",
      "Data columns (total 7 columns):\n",
      " #   Column     Non-Null Count  Dtype  \n",
      "---  ------     --------------  -----  \n",
      " 0   Date       2579 non-null   object \n",
      " 1   Open       2579 non-null   float64\n",
      " 2   High       2579 non-null   float64\n",
      " 3   Low        2579 non-null   float64\n",
      " 4   Close      2579 non-null   float64\n",
      " 5   Adj Close  2579 non-null   float64\n",
      " 6   Volume     2579 non-null   int64  \n",
      "dtypes: float64(5), int64(1), object(1)\n",
      "memory usage: 141.2+ KB\n"
     ]
    }
   ],
   "source": [
    "df.info()"
   ]
  },
  {
   "cell_type": "code",
   "execution_count": 30,
   "metadata": {},
   "outputs": [
    {
     "data": {
      "text/html": [
       "<div>\n",
       "<style scoped>\n",
       "    .dataframe tbody tr th:only-of-type {\n",
       "        vertical-align: middle;\n",
       "    }\n",
       "\n",
       "    .dataframe tbody tr th {\n",
       "        vertical-align: top;\n",
       "    }\n",
       "\n",
       "    .dataframe thead th {\n",
       "        text-align: right;\n",
       "    }\n",
       "</style>\n",
       "<table border=\"1\" class=\"dataframe\">\n",
       "  <thead>\n",
       "    <tr style=\"text-align: right;\">\n",
       "      <th></th>\n",
       "      <th>Open</th>\n",
       "      <th>High</th>\n",
       "      <th>Low</th>\n",
       "      <th>Close</th>\n",
       "      <th>Adj Close</th>\n",
       "      <th>Volume</th>\n",
       "    </tr>\n",
       "  </thead>\n",
       "  <tbody>\n",
       "    <tr>\n",
       "      <th>count</th>\n",
       "      <td>2579.000000</td>\n",
       "      <td>2579.000000</td>\n",
       "      <td>2579.000000</td>\n",
       "      <td>2579.000000</td>\n",
       "      <td>2579.000000</td>\n",
       "      <td>2.579000e+03</td>\n",
       "    </tr>\n",
       "    <tr>\n",
       "      <th>mean</th>\n",
       "      <td>49.206686</td>\n",
       "      <td>50.301806</td>\n",
       "      <td>48.073117</td>\n",
       "      <td>49.253279</td>\n",
       "      <td>49.253279</td>\n",
       "      <td>3.078217e+07</td>\n",
       "    </tr>\n",
       "    <tr>\n",
       "      <th>std</th>\n",
       "      <td>57.934102</td>\n",
       "      <td>59.888383</td>\n",
       "      <td>55.852349</td>\n",
       "      <td>58.119783</td>\n",
       "      <td>58.119783</td>\n",
       "      <td>2.855717e+07</td>\n",
       "    </tr>\n",
       "    <tr>\n",
       "      <th>min</th>\n",
       "      <td>3.228000</td>\n",
       "      <td>3.326000</td>\n",
       "      <td>2.996000</td>\n",
       "      <td>3.160000</td>\n",
       "      <td>3.160000</td>\n",
       "      <td>5.925000e+05</td>\n",
       "    </tr>\n",
       "    <tr>\n",
       "      <th>25%</th>\n",
       "      <td>7.159000</td>\n",
       "      <td>7.268000</td>\n",
       "      <td>6.989000</td>\n",
       "      <td>7.153000</td>\n",
       "      <td>7.153000</td>\n",
       "      <td>1.047400e+07</td>\n",
       "    </tr>\n",
       "    <tr>\n",
       "      <th>50%</th>\n",
       "      <td>44.001999</td>\n",
       "      <td>44.660000</td>\n",
       "      <td>43.301998</td>\n",
       "      <td>43.924000</td>\n",
       "      <td>43.924000</td>\n",
       "      <td>2.413100e+07</td>\n",
       "    </tr>\n",
       "    <tr>\n",
       "      <th>75%</th>\n",
       "      <td>59.339000</td>\n",
       "      <td>60.171000</td>\n",
       "      <td>57.841000</td>\n",
       "      <td>59.020000</td>\n",
       "      <td>59.020000</td>\n",
       "      <td>3.979150e+07</td>\n",
       "    </tr>\n",
       "    <tr>\n",
       "      <th>max</th>\n",
       "      <td>502.140015</td>\n",
       "      <td>502.489990</td>\n",
       "      <td>470.510010</td>\n",
       "      <td>498.320007</td>\n",
       "      <td>498.320007</td>\n",
       "      <td>3.046940e+08</td>\n",
       "    </tr>\n",
       "  </tbody>\n",
       "</table>\n",
       "</div>"
      ],
      "text/plain": [
       "              Open         High          Low        Close    Adj Close  \\\n",
       "count  2579.000000  2579.000000  2579.000000  2579.000000  2579.000000   \n",
       "mean     49.206686    50.301806    48.073117    49.253279    49.253279   \n",
       "std      57.934102    59.888383    55.852349    58.119783    58.119783   \n",
       "min       3.228000     3.326000     2.996000     3.160000     3.160000   \n",
       "25%       7.159000     7.268000     6.989000     7.153000     7.153000   \n",
       "50%      44.001999    44.660000    43.301998    43.924000    43.924000   \n",
       "75%      59.339000    60.171000    57.841000    59.020000    59.020000   \n",
       "max     502.140015   502.489990   470.510010   498.320007   498.320007   \n",
       "\n",
       "             Volume  \n",
       "count  2.579000e+03  \n",
       "mean   3.078217e+07  \n",
       "std    2.855717e+07  \n",
       "min    5.925000e+05  \n",
       "25%    1.047400e+07  \n",
       "50%    2.413100e+07  \n",
       "75%    3.979150e+07  \n",
       "max    3.046940e+08  "
      ]
     },
     "execution_count": 30,
     "metadata": {},
     "output_type": "execute_result"
    }
   ],
   "source": [
    "df.describe()"
   ]
  },
  {
   "cell_type": "markdown",
   "metadata": {},
   "source": [
    "**Splitting data into X and y**"
   ]
  },
  {
   "cell_type": "code",
   "execution_count": 31,
   "metadata": {},
   "outputs": [
    {
     "name": "stdout",
     "output_type": "stream",
     "text": [
      "[[6.08400000e+00 4.66000000e+00 5.15800000e+00 8.59355000e+07]\n",
      " [5.18400000e+00 4.05400000e+00 5.00000000e+00 4.10940000e+07]\n",
      " [4.62000000e+00 3.74200000e+00 4.60000000e+00 2.56990000e+07]\n",
      " ...\n",
      " [4.12149994e+02 3.75880005e+02 4.05160004e+02 9.50742000e+07]\n",
      " [3.99500000e+02 3.51299988e+02 3.63799988e+02 9.65611000e+07]\n",
      " [4.08730011e+02 3.91299988e+02 3.93470001e+02 6.70684000e+07]]\n"
     ]
    }
   ],
   "source": [
    "X = df[['High', 'Low', 'Open', 'Volume']].values\n",
    "y = df['Close'].values\n",
    "print(X)"
   ]
  },
  {
   "cell_type": "code",
   "execution_count": 32,
   "metadata": {},
   "outputs": [
    {
     "name": "stdout",
     "output_type": "stream",
     "text": [
      "[  4.766      4.392      3.84     ... 380.359985 387.790009 407.339996]\n"
     ]
    }
   ],
   "source": [
    "print(y)"
   ]
  },
  {
   "cell_type": "markdown",
   "metadata": {},
   "source": [
    "**Test-Train Split**"
   ]
  },
  {
   "cell_type": "code",
   "execution_count": 33,
   "metadata": {},
   "outputs": [],
   "source": [
    "# Split data into testing and training sets\n",
    "X_train, X_test, y_train, y_test = train_test_split(X,y, test_size=0.3, random_state=1)"
   ]
  },
  {
   "cell_type": "markdown",
   "metadata": {},
   "source": [
    "**Training the model**"
   ]
  },
  {
   "cell_type": "code",
   "execution_count": 34,
   "metadata": {},
   "outputs": [
    {
     "name": "stdout",
     "output_type": "stream",
     "text": [
      "[ 8.87095614e-01  5.85513083e-01 -4.76088446e-01 -1.00579988e-08]\n"
     ]
    }
   ],
   "source": [
    "# Create Regression Model \n",
    "Model = LinearRegression()\n",
    "\n",
    "# Train the model\n",
    "Model.fit(X_train, y_train)\n",
    "\n",
    "#Printing Coefficient\n",
    "print(Model.coef_)"
   ]
  },
  {
   "cell_type": "code",
   "execution_count": 35,
   "metadata": {},
   "outputs": [
    {
     "name": "stdout",
     "output_type": "stream",
     "text": [
      "[ 48.28710377   5.46796474  67.81519558   6.68986368  50.57475389\n",
      "  50.15802018  41.85593245  24.42517645  49.54803051  43.90230937\n",
      " 298.79298491  37.51402064   7.85499938  43.74164349  54.54668473\n",
      "   4.86374123  43.05771831  62.23745654   6.62671137  50.86453905\n",
      " 162.17778438  54.01208146  26.89490796  17.34867616  67.53108095\n",
      "  45.30737392  72.83821008  49.06133251 143.27239733  51.92928264\n",
      "  50.70256477  29.52666431  49.57760378  47.45345367  32.76661722\n",
      " 155.0533991   62.70618124   4.36559773  43.69638043  27.58513271\n",
      "  58.69012648  38.24953676  38.95889793  38.59116288  23.66760729\n",
      "  39.00734264   3.45184405  40.98080408   8.01183053  52.44962283\n",
      "   3.97031792   5.74775758   3.01063992  42.26288089  33.17485593\n",
      "   7.30407959   7.21164417  49.53701516 449.58142711   8.24903154\n",
      " 130.87602639  47.09386717  70.10875987  41.83007477  43.81371492\n",
      "  55.29270419 126.86476191  64.01792297  48.65801981  67.90733784\n",
      "   5.13970989  58.15189852  39.66296044  41.28471972   6.80734248\n",
      "  37.21190136  34.89873433   5.6830325   53.94065467  45.24036803\n",
      "   5.59574718  72.51882286  54.85363885  38.41369166   5.77993699\n",
      " 201.50246087  10.49318868   4.24774585  43.83320911  39.75951297\n",
      "  44.98932812   5.88711957   4.19142634   5.02904588  65.04301966\n",
      "  68.16580518  53.37973517   4.82523607  45.56905848   6.09063904\n",
      "  51.27468185   7.01232327  46.50660147  71.36054459 308.39589608\n",
      "  44.63208319  61.10491501  43.33698154   5.98953678   4.92801575\n",
      "  30.72113073   5.62975749  50.09910506  63.97150802   7.11351678\n",
      " 300.54945568  30.19549817  24.69525979  50.23800453   6.30575924\n",
      "  46.66445875   7.06632818  70.79974214  50.49665861  46.29016504\n",
      "  63.62603446   5.7260769   45.90564672  68.92889813  34.99666314\n",
      "  54.33543259  45.59205896  46.86903562  57.37367338  69.35395171\n",
      "  39.67672604  52.34205959  28.89503738   7.49530193  45.75050982\n",
      "  68.36235385   5.26352945  10.88658663  39.04239158  43.76939747\n",
      "  46.44753976  36.96739672   6.38250371  43.46867372  44.0258889\n",
      "  51.31506025  50.20852664  85.11410736  66.02233883  44.11538723\n",
      "  65.6870657   61.18894811  53.64226664  35.721883    37.90672908\n",
      "  50.53029385  51.62788712  61.52553214   6.54836496   4.27531369\n",
      "   5.57215465  53.19905099  35.78783816  59.6778776    5.8824399\n",
      "  48.75391875  32.91963387  69.8683504    7.18737542  24.21586149\n",
      "  94.88349896   4.99253578  44.02207694   5.02363692  37.95937551\n",
      "  41.73904035   5.7099585   73.53263696   6.22703768  62.70575855\n",
      "  42.36896265  11.22338419  46.75236641  55.43794569  40.3244936\n",
      "   6.47946343   5.15101866   6.12050197   6.00587184  67.60047025\n",
      " 156.85726978  29.7772174   67.91447378  41.17466197  49.75003014\n",
      "  34.74542314  76.11571414  42.30415196  39.40000595  42.13138816\n",
      "  25.3296039   20.4311526   60.92933154  42.34977763   5.48890058\n",
      "  45.12281417  33.57163573  46.39095548  42.40619638  38.66283614\n",
      "  24.10790803  30.63575912  44.38516244  45.43514034   6.05576601\n",
      "  37.48482133   6.61541699   7.6880274   96.87504245  45.45246971\n",
      "   4.31376158   5.77404103  61.81397848 300.15171568 274.75209854\n",
      "  50.88468118   6.91935625   6.79722831  56.4099336    6.06126023\n",
      "  59.87809239   5.85518283  36.34798413 148.93643242  71.83133876\n",
      "  56.02688617  35.88657035  46.16952348   7.32600945  71.19768244\n",
      "  64.33220475  49.57469665  47.50285061  44.3908241   56.55273171\n",
      "   6.20710464  58.84881358  42.42351882  42.32888815  33.79906077\n",
      "  40.52050217  44.98289835   6.78837191   4.93507453  50.03157384\n",
      "   4.77916131  63.67528454  24.69326783  45.56105166  58.23923032\n",
      "  49.98367155   6.20645212  40.99012515  32.59549225  40.28142481\n",
      "  48.210379    37.72588589  44.24753206  43.94696277   6.38263742\n",
      "   5.53765952   5.43401003   7.13967432   4.21557009  42.35906921\n",
      "   6.96036167  54.35871237  40.99290125  54.41512257  66.14130242\n",
      "  68.96534623   6.71970314  68.27675162  51.00555646  47.80580795\n",
      "   4.34851269   6.31249273  57.67209568  24.25854604   7.30210768\n",
      "  59.60287711   6.66879824  65.89300636  47.33020272  53.15459932\n",
      "  49.11186422  40.65826265  38.61650508  64.10405616  47.31160495\n",
      " 161.08511257  96.81737731  55.81687523  18.73922495  50.0086286\n",
      "   5.11904651  27.25923787  40.99186997  44.21567703 111.87874816\n",
      "  50.23087313   6.10474674  55.47359654   6.9583762    5.68623922\n",
      "   4.36735313  51.00448614  42.87988799  56.02430377  44.8875339\n",
      "   7.14752035  61.91614989   6.51380567  65.64461887   5.64889131\n",
      "  63.46135626 174.48509295  52.86368824  39.49085282   5.71060241\n",
      "  48.78646358   6.98441958   6.33551307   6.69531357  73.17449733\n",
      "   6.46086339  40.89598739   8.8972896   49.72011737   5.99093983\n",
      "   5.97688799  37.87278174   5.79731366   5.54769735  49.76899916\n",
      "  31.27901185  52.24035438   5.39424906  62.48943705   7.53006186\n",
      "  55.56160269   6.19646972   6.00174752  46.95723617   6.74389152\n",
      "  44.7451721   69.80595999   6.88951221   7.97384324  36.6061583\n",
      "   5.66663796   5.57390849  61.88879002  66.71533813  44.44211138\n",
      "  48.8076207   68.33240871  44.08661939  47.31928654  41.99607456\n",
      "  59.18248087   6.81323195  51.67802495  51.21723337  38.64391845\n",
      "  46.20856502  53.91637856  39.28584026 162.81680924  64.35789451\n",
      "   5.93234802  45.48336601  38.93843042  61.33584282  59.00907146\n",
      "  67.75634059   8.98904356  69.82680424   7.01005314  44.55583799\n",
      "  51.89439057  65.99134579 163.33402119   5.08506303 427.73285433\n",
      "  49.71142281  39.5036392   62.49049671  37.57260786  69.72910014\n",
      " 114.15740808 134.13202753 154.97330433 392.06648501   6.69083515\n",
      "  58.01481685  43.16570754   5.7377438   46.40350962  71.75168545\n",
      "  45.56817943 199.68556893  50.60254767  39.39679134  62.00193509\n",
      "  67.53711091  52.71799031   6.12783714  35.35837833  42.00428666\n",
      " 113.18222911  40.27562075   9.1448401   49.40719631  67.38432021\n",
      "  57.03812349  43.50872332  52.37730853   5.66909542  39.14094089\n",
      "  40.23348283  27.49553673  36.38684954  40.6244425    6.34251978\n",
      "  56.53811592  62.40689061  20.39560423  46.4570898    6.98096601\n",
      "  44.38936804   6.02810052  66.17552034  41.30263767  41.47382496\n",
      "  44.84962262  63.67054756   7.33776537   7.74080436   6.03293166\n",
      "   7.62508582  45.93402177  40.19201639   5.5541823   43.11271021\n",
      "   5.10662288  50.43540445  44.67402488   5.86147007  62.41708948\n",
      "  41.72760607  10.02971439  40.47144541  62.92459272  57.21948474\n",
      "  66.835943     6.40990562  62.64812366   5.72543685  68.16215022\n",
      "  68.99941552  63.77066033 362.90121355  44.93878025  52.43081158\n",
      " 105.52239732  58.17932873  83.22175785  23.27675524  39.61928582\n",
      "  39.92990382  69.0806285   63.14353056   4.52099518  49.25074386\n",
      "   6.21152374  46.90890894  47.39144014  46.45525918   5.48454755\n",
      "   7.89526756   5.27452812   5.69994151   5.90972571  68.67796817\n",
      "  61.11347369  70.43183066   4.61254282   6.07207873   6.0849681\n",
      " 322.27387869  45.47900781  59.97785203  41.14573768   4.29159763\n",
      "  67.22943221   5.44586258   6.99935478   7.78537904   5.86435255\n",
      "  74.08374863 453.36127073   5.77428443 270.32059314  76.55776995\n",
      "  45.24486149  46.62232038  45.13871515 101.53871297  50.17827051\n",
      "   6.77729662  32.95199244  66.8016726   38.92311392  51.55866639\n",
      "  38.77508338  42.26798186   6.59605962   5.65753582   5.91875723\n",
      "  41.43601135  32.38917     50.89996876  89.40602695  57.03412306\n",
      "  65.68298811  49.75277177  63.26506015   6.44453868   5.82318382\n",
      "  69.5748789   63.3786198   61.46532182 187.01090396 386.12887977\n",
      "  66.12029702  70.92043771  67.92861883  45.98236966   7.80113862\n",
      "   5.87882778   5.92223371  69.63113676  70.95810391  59.85286798\n",
      "  45.64980053  43.29630282  39.0279016   40.56678783  65.17828517\n",
      "  28.41281928  69.36174709   7.73594301  45.45688815   5.41660362\n",
      "  37.49412232   3.69821662   5.95819996   5.83892723  40.40428005\n",
      "  44.85362571   9.90682118   5.04171306  41.89020597   5.00076375\n",
      "  49.79052042  39.32694338   7.62378312  25.54147569  45.5722004\n",
      "  18.86584526  41.29948665  92.69678339   6.42732326   7.68370501\n",
      "  17.45430922  59.37317746  67.83365063 327.6074472   49.45927674\n",
      "   5.34625286   4.75506602   7.65115676  42.04705055 152.0402623\n",
      "  67.18083712  44.31756409  37.70621921   5.77991338   4.45643009\n",
      "  33.17881488  60.45228063  37.7030823   72.77463582  40.08592778\n",
      "  50.4541062   46.09215209  39.24598939  45.95682924   7.9117331\n",
      "  33.22857578   7.05927444  50.43437775  40.48741999  58.27734913\n",
      "   7.01114919   6.31261441  53.93271661  37.17792641  52.16983128\n",
      "   6.46558556  45.48907972  66.12972857   4.28331648   5.30528769\n",
      "  52.26592976 102.76342817  70.14510739  68.35235521   4.39423314\n",
      "   5.58805072  66.12173623   5.71036196  49.79567556 403.90839254\n",
      "  48.07862116  47.15429131   4.80932625   5.58751352  47.99722749\n",
      "   7.04591436  49.67250556  48.07835112  23.66911347   4.48202753\n",
      "  28.57331601  41.35965258   4.23972852   6.46639667  51.21055916\n",
      "  64.71491883   5.11714471  47.30915047  44.22130975  40.67558871\n",
      "  20.93353289  80.54423995  44.65118968  57.14556567  73.39007474\n",
      "  42.6863734   62.26023607  61.74475714   7.11481121  54.17312703\n",
      "  50.38022693  19.56809054   5.55986988  68.51619141  37.61581892\n",
      "   6.37882345  48.2404555   23.51872495  29.41196554  45.4953433\n",
      "  61.69529705  48.02691169  49.90104417   4.72326173   6.51870722\n",
      "   6.98410915   3.3680518   35.23714328  68.96903845  42.54651975\n",
      "  27.32224597  66.16995194  58.88323633  51.2284521    5.71737387\n",
      "  45.87418892  47.62210068  42.54361467  70.50746758  47.46421845\n",
      "   6.03777377  40.28139642 174.95676288  45.6033153   45.73374321\n",
      "   6.45526917  49.01475024  52.4247576   43.0765485  162.2332306\n",
      "   6.91240294  29.04055217  37.85235665   6.46258866   4.99026355\n",
      "  50.3008805   73.19788407 160.25155233  52.91328659   5.01891413\n",
      "   4.94247585 150.33808486   4.7479159   41.41850515   8.29441924\n",
      "  25.54364412  68.14767868   5.86259033   6.0368952   44.31436614\n",
      "  95.19809736  41.80396784   6.13342569  28.79711128  41.63914212\n",
      "  43.17472417  37.91828389   4.45642773  39.54119397   6.7560761\n",
      "   6.87828357   6.84523506  45.50768379   7.03254759  33.98774092\n",
      "  49.70483556  64.08894678  40.53284811  34.87792315   7.03985489\n",
      "   3.71113391  23.50356178  38.63978447   7.10243704  68.07540437\n",
      "   6.02384504  74.29261712  66.37067193  49.50928026   5.95697307\n",
      "  56.58131571   4.86994299  54.43700588  58.97986316  59.52562448\n",
      "  71.51047009  45.70017427   5.81449044  51.98934658  38.23657466\n",
      "  45.36271567  39.32858095   5.53560937 151.06458872]\n"
     ]
    }
   ],
   "source": [
    "# Use model to make predictions\n",
    "predicted = Model.predict(X_test) \n",
    "print(predicted)"
   ]
  },
  {
   "cell_type": "markdown",
   "metadata": {},
   "source": [
    "**Combining the Prediction to the Actual Data to match**"
   ]
  },
  {
   "cell_type": "code",
   "execution_count": 36,
   "metadata": {},
   "outputs": [
    {
     "data": {
      "text/html": [
       "<div>\n",
       "<style scoped>\n",
       "    .dataframe tbody tr th:only-of-type {\n",
       "        vertical-align: middle;\n",
       "    }\n",
       "\n",
       "    .dataframe tbody tr th {\n",
       "        vertical-align: top;\n",
       "    }\n",
       "\n",
       "    .dataframe thead th {\n",
       "        text-align: right;\n",
       "    }\n",
       "</style>\n",
       "<table border=\"1\" class=\"dataframe\">\n",
       "  <thead>\n",
       "    <tr style=\"text-align: right;\">\n",
       "      <th></th>\n",
       "      <th>Actual</th>\n",
       "      <th>Predicted</th>\n",
       "    </tr>\n",
       "  </thead>\n",
       "  <tbody>\n",
       "    <tr>\n",
       "      <th>0</th>\n",
       "      <td>48.598000</td>\n",
       "      <td>48.287104</td>\n",
       "    </tr>\n",
       "    <tr>\n",
       "      <th>1</th>\n",
       "      <td>5.348000</td>\n",
       "      <td>5.467965</td>\n",
       "    </tr>\n",
       "    <tr>\n",
       "      <th>2</th>\n",
       "      <td>68.570000</td>\n",
       "      <td>67.815196</td>\n",
       "    </tr>\n",
       "    <tr>\n",
       "      <th>3</th>\n",
       "      <td>6.430000</td>\n",
       "      <td>6.689864</td>\n",
       "    </tr>\n",
       "    <tr>\n",
       "      <th>4</th>\n",
       "      <td>49.812000</td>\n",
       "      <td>50.574754</td>\n",
       "    </tr>\n",
       "    <tr>\n",
       "      <th>5</th>\n",
       "      <td>50.004002</td>\n",
       "      <td>50.158020</td>\n",
       "    </tr>\n",
       "    <tr>\n",
       "      <th>6</th>\n",
       "      <td>41.400002</td>\n",
       "      <td>41.855932</td>\n",
       "    </tr>\n",
       "    <tr>\n",
       "      <th>7</th>\n",
       "      <td>24.690001</td>\n",
       "      <td>24.425176</td>\n",
       "    </tr>\n",
       "    <tr>\n",
       "      <th>8</th>\n",
       "      <td>49.785999</td>\n",
       "      <td>49.548031</td>\n",
       "    </tr>\n",
       "    <tr>\n",
       "      <th>9</th>\n",
       "      <td>43.472000</td>\n",
       "      <td>43.902309</td>\n",
       "    </tr>\n",
       "    <tr>\n",
       "      <th>10</th>\n",
       "      <td>297.000000</td>\n",
       "      <td>298.792985</td>\n",
       "    </tr>\n",
       "    <tr>\n",
       "      <th>11</th>\n",
       "      <td>38.782001</td>\n",
       "      <td>37.514021</td>\n",
       "    </tr>\n",
       "    <tr>\n",
       "      <th>12</th>\n",
       "      <td>7.708000</td>\n",
       "      <td>7.854999</td>\n",
       "    </tr>\n",
       "    <tr>\n",
       "      <th>13</th>\n",
       "      <td>43.888000</td>\n",
       "      <td>43.741643</td>\n",
       "    </tr>\n",
       "    <tr>\n",
       "      <th>14</th>\n",
       "      <td>53.790001</td>\n",
       "      <td>54.546685</td>\n",
       "    </tr>\n",
       "    <tr>\n",
       "      <th>15</th>\n",
       "      <td>4.650000</td>\n",
       "      <td>4.863741</td>\n",
       "    </tr>\n",
       "    <tr>\n",
       "      <th>16</th>\n",
       "      <td>43.529999</td>\n",
       "      <td>43.057718</td>\n",
       "    </tr>\n",
       "    <tr>\n",
       "      <th>17</th>\n",
       "      <td>62.924000</td>\n",
       "      <td>62.237457</td>\n",
       "    </tr>\n",
       "    <tr>\n",
       "      <th>18</th>\n",
       "      <td>6.426000</td>\n",
       "      <td>6.626711</td>\n",
       "    </tr>\n",
       "    <tr>\n",
       "      <th>19</th>\n",
       "      <td>51.400002</td>\n",
       "      <td>50.864539</td>\n",
       "    </tr>\n",
       "  </tbody>\n",
       "</table>\n",
       "</div>"
      ],
      "text/plain": [
       "        Actual   Predicted\n",
       "0    48.598000   48.287104\n",
       "1     5.348000    5.467965\n",
       "2    68.570000   67.815196\n",
       "3     6.430000    6.689864\n",
       "4    49.812000   50.574754\n",
       "5    50.004002   50.158020\n",
       "6    41.400002   41.855932\n",
       "7    24.690001   24.425176\n",
       "8    49.785999   49.548031\n",
       "9    43.472000   43.902309\n",
       "10  297.000000  298.792985\n",
       "11   38.782001   37.514021\n",
       "12    7.708000    7.854999\n",
       "13   43.888000   43.741643\n",
       "14   53.790001   54.546685\n",
       "15    4.650000    4.863741\n",
       "16   43.529999   43.057718\n",
       "17   62.924000   62.237457\n",
       "18    6.426000    6.626711\n",
       "19   51.400002   50.864539"
      ]
     },
     "execution_count": 36,
     "metadata": {},
     "output_type": "execute_result"
    }
   ],
   "source": [
    "data = pd.DataFrame({'Actual': y_test.flatten(), 'Predicted' : predicted.flatten()})\n",
    "data.head(20)"
   ]
  },
  {
   "cell_type": "markdown",
   "metadata": {},
   "source": [
    "**Validating the Fit**"
   ]
  },
  {
   "cell_type": "code",
   "execution_count": 37,
   "metadata": {},
   "outputs": [
    {
     "name": "stdout",
     "output_type": "stream",
     "text": [
      "Mean Absolute Error: 0.469160683039793\n",
      "Mean Squared Error: 0.903393730880092\n",
      "Root Mean Squared Error: 0.9504702682778099\n"
     ]
    }
   ],
   "source": [
    "import math\n",
    "print('Mean Absolute Error:', metrics.mean_absolute_error(y_test,predicted))\n",
    "print('Mean Squared Error:', metrics.mean_squared_error(y_test,predicted))\n",
    "print('Root Mean Squared Error:', math.sqrt(metrics.mean_squared_error(y_test,predicted)))"
   ]
  },
  {
   "cell_type": "code",
   "execution_count": 39,
   "metadata": {},
   "outputs": [
    {
     "data": {
      "text/plain": [
       "<AxesSubplot:>"
      ]
     },
     "execution_count": 39,
     "metadata": {},
     "output_type": "execute_result"
    },
    {
     "data": {
      "image/png": "[encoded data removed]",
      "text/plain": [
       "<Figure size 432x288 with 1 Axes>"
      ]
     },
     "metadata": {
      "needs_background": "light"
     },
     "output_type": "display_data"
    }
   ],
   "source": [
    "graph = data.head(20)\n",
    "graph.plot(kind='bar')"
   ]
  }
 ],
 "metadata": {
  "kernelspec": {
   "display_name": "Python 3.9.12 ('base')",
   "language": "python",
   "name": "python3"
  },
  "language_info": {
   "codemirror_mode": {
    "name": "ipython",
    "version": 3
   },
   "file_extension": ".py",
   "mimetype": "text/x-python",
   "name": "python",
   "nbconvert_exporter": "python",
   "pygments_lexer": "ipython3",
   "version": "3.9.12"
  },
  "orig_nbformat": 4,
  "vscode": {
   "interpreter": {
    "hash": "4d9defa72c2715dab9f7f172572cd30a1ab1a2083462d32ef96aadb7c6e0c73b"
   }
  }
 },
 "nbformat": 4,
 "nbformat_minor": 2
}
